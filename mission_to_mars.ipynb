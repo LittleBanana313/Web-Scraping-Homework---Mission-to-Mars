{
 "cells": [
  {
   "cell_type": "code",
   "execution_count": 18,
   "id": "f1c7bf51",
   "metadata": {},
   "outputs": [],
   "source": [
    "# Import statements and setup\n",
    "from bs4 import BeautifulSoup\n",
    "from splinter import Browser\n",
    "import pandas as pd\n",
    "import time"
   ]
  },
  {
   "cell_type": "code",
   "execution_count": 19,
   "id": "cca5badd",
   "metadata": {},
   "outputs": [],
   "source": [
    "# Chrome driver config\n",
    "executable_path = {\"executable_path\": \"/Users/connn/Downloads/chromedriver\"}\n",
    "browser = Browser(\"chrome\", **executable_path, headless=False)"
   ]
  },
  {
   "cell_type": "markdown",
   "id": "f4eb50ed",
   "metadata": {},
   "source": [
    "### NASA Mars site:"
   ]
  },
  {
   "cell_type": "code",
   "execution_count": 20,
   "id": "eb480714",
   "metadata": {},
   "outputs": [],
   "source": [
    "# visit NASA site\n",
    "url = \"https://mars.nasa.gov/news/\"\n",
    "browser.visit(url)"
   ]
  },
  {
   "cell_type": "code",
   "execution_count": 21,
   "id": "80fd7bae",
   "metadata": {},
   "outputs": [
    {
     "data": {
      "text/plain": [
       "<ul class=\"item_list\"><li class=\"slide\"><div class=\"image_and_description_container\"><a href=\"/news/9036/nasas-perseverance-rover-collects-puzzle-pieces-of-mars-history/\" target=\"_self\"><div class=\"rollover_description\"><div class=\"rollover_description_inner\">The rocks it has analyzed for sample collection are helping the team better understand a past marked by volcanic activity and water.</div><div class=\"overlay_arrow\"><img alt=\"More\" src=\"/assets/overlay-arrow.png\"/></div></div><div class=\"list_image\"><img alt=\"Image taken by Perseverance with two holes where the rover's drill obtained chalk-size samples from rock nicknamed &quot;Rochette.&quot;\" src=\"/system/news_items/list_view_images/9036_1-PIA24840-320x240.jpg\"/></div><div class=\"bottom_gradient\"><div><h3>NASA's Perseverance Rover Collects Puzzle Pieces of Mars' History</h3></div></div></a><div class=\"list_text\"><div class=\"list_date\">September 10, 2021</div><div class=\"content_title\"><a href=\"/news/9036/nasas-perseverance-rover-collects-puzzle-pieces-of-mars-history/\" target=\"_self\">NASA's Perseverance Rover Collects Puzzle Pieces of Mars' History</a></div><div class=\"article_teaser_body\">The rocks it has analyzed for sample collection are helping the team better understand a past marked by volcanic activity and water.</div></div></div></li><li class=\"slide\"><div class=\"image_and_description_container\"><a href=\"/news/9035/nasa-mars-mission-begins-a-new-chapter-of-science-with-a-new-leader/\" target=\"_self\"><div class=\"rollover_description\"><div class=\"rollover_description_inner\">Dr. Shannon Curry, planetary scientist and the deputy assistant director of planetary science at the Space Sciences Laboratory (SSL) at the University of California, Berkeley, has assumed leadership of NASA’s first mission devoted to studying the Martian atmosphere.</div><div class=\"overlay_arrow\"><img alt=\"More\" src=\"/assets/overlay-arrow.png\"/></div></div><div class=\"list_image\"><img alt=\"This is an artist rendition of NASA's Mars Atmosphere and Volatile Evolution, or MAVEN spacecraft orbiting Mars.\" src=\"/system/news_items/list_view_images/9035_8125_maven-spacecraft-orbiting-mars-thumbnail.jpg\"/></div><div class=\"bottom_gradient\"><div><h3>NASA Mars Mission Begins a New Chapter of Science With a New Leader</h3></div></div></a><div class=\"list_text\"><div class=\"list_date\">September  9, 2021</div><div class=\"content_title\"><a href=\"/news/9035/nasa-mars-mission-begins-a-new-chapter-of-science-with-a-new-leader/\" target=\"_self\">NASA Mars Mission Begins a New Chapter of Science With a New Leader</a></div><div class=\"article_teaser_body\">Dr. Shannon Curry, planetary scientist and the deputy assistant director of planetary science at the Space Sciences Laboratory (SSL) at the University of California, Berkeley, has assumed leadership of NASA’s first mission devoted to studying the Martian atmosphere.</div></div></div></li><li class=\"slide\"><div class=\"image_and_description_container\"><a href=\"/news/9032/mars-perseverance-team-members-to-be-recognized-at-hispanic-heritage-awards/\" target=\"_self\"><div class=\"rollover_description\"><div class=\"rollover_description_inner\">The three award recipients – Diana Trujillo, Christina Hernandez, and Clara O’Farrell – are engineers from the NASA rover team. </div><div class=\"overlay_arrow\"><img alt=\"More\" src=\"/assets/overlay-arrow.png\"/></div></div><div class=\"list_image\"><img alt=\"Photos of Diana Trujillo, Christina Hernandez, and Clara O’Farrell, engineers with NASA’s Mars Perseverance rover team. \" src=\"/system/news_items/list_view_images/9032_hispanic-heritage-trio_thumbnail.jpg\"/></div><div class=\"bottom_gradient\"><div><h3>Mars Perseverance Team Members to Be Recognized at Hispanic Heritage Awards</h3></div></div></a><div class=\"list_text\"><div class=\"list_date\">September  8, 2021</div><div class=\"content_title\"><a href=\"/news/9032/mars-perseverance-team-members-to-be-recognized-at-hispanic-heritage-awards/\" target=\"_self\">Mars Perseverance Team Members to Be Recognized at Hispanic Heritage Awards</a></div><div class=\"article_teaser_body\">The three award recipients – Diana Trujillo, Christina Hernandez, and Clara O’Farrell – are engineers from the NASA rover team. </div></div></div></li><li class=\"slide\"><div class=\"image_and_description_container\"><a href=\"/news/9030/nasa-to-host-briefing-on-successful-sample-collection-of-martian-rock/\" target=\"_self\"><div class=\"rollover_description\"><div class=\"rollover_description_inner\">Panelists will discuss the Perseverance rover’s successful collection of the sample and latest science analysis.</div><div class=\"overlay_arrow\"><img alt=\"More\" src=\"/assets/overlay-arrow.png\"/></div></div><div class=\"list_image\"><img alt=\"The drill hole from Perseverance's second sample-collection attempt can be seen, in this composite of two images taken on Sept. 1, by one of the rover’s navigation cameras.\" src=\"/system/news_items/list_view_images/9030_PIA24805-thumb.jpg\"/></div><div class=\"bottom_gradient\"><div><h3>NASA to Host Briefing on Successful Sample Collection of Martian Rock</h3></div></div></a><div class=\"list_text\"><div class=\"list_date\">September  7, 2021</div><div class=\"content_title\"><a href=\"/news/9030/nasa-to-host-briefing-on-successful-sample-collection-of-martian-rock/\" target=\"_self\">NASA to Host Briefing on Successful Sample Collection of Martian Rock</a></div><div class=\"article_teaser_body\">Panelists will discuss the Perseverance rover’s successful collection of the sample and latest science analysis.</div></div></div></li><li class=\"slide\"><div class=\"image_and_description_container\"><a href=\"/news/9029/nasas-perseverance-rover-collects-first-mars-rock-sample/\" target=\"_self\"><div class=\"rollover_description\"><div class=\"rollover_description_inner\">The rock core is now enclosed in an airtight titanium sample tube, and will be available for retrieval in the future.</div><div class=\"overlay_arrow\"><img alt=\"More\" src=\"/assets/overlay-arrow.png\"/></div></div><div class=\"list_image\"><img alt=\"This is a colored image of Perseverance’s first cored-rock sample inside this titanium sample collection tube. \" src=\"/system/news_items/list_view_images/9029_IA24806_thumbnail.jpg\"/></div><div class=\"bottom_gradient\"><div><h3>NASA's Perseverance Rover Collects First Mars Rock Sample</h3></div></div></a><div class=\"list_text\"><div class=\"list_date\">September  6, 2021</div><div class=\"content_title\"><a href=\"/news/9029/nasas-perseverance-rover-collects-first-mars-rock-sample/\" target=\"_self\">NASA's Perseverance Rover Collects First Mars Rock Sample</a></div><div class=\"article_teaser_body\">The rock core is now enclosed in an airtight titanium sample tube, and will be available for retrieval in the future.</div></div></div></li><li class=\"slide\"><div class=\"image_and_description_container\"><a href=\"/news/9027/nasas-perseverance-rover-successfully-cores-its-first-rock/\" target=\"_self\"><div class=\"rollover_description\"><div class=\"rollover_description_inner\">Perseverance will obtain additional imagery of the sample tube before potentially completing the process of collecting its first scientifically-selected Mars sample.\n",
       "</div><div class=\"overlay_arrow\"><img alt=\"More\" src=\"/assets/overlay-arrow.png\"/></div></div><div class=\"list_image\"><img alt=\"Taken Sept. 1 by Mastcam-Z after Perseverance’s sample-coring activities, this image shows the rover’s drill with no cored rock sample evident in the sample tube.\" src=\"/system/news_items/list_view_images/9027_2-PIA24804-thumb.jpg\"/></div><div class=\"bottom_gradient\"><div><h3>NASA's Perseverance Rover Successfully Cores Its First Rock</h3></div></div></a><div class=\"list_text\"><div class=\"list_date\">September  2, 2021</div><div class=\"content_title\"><a href=\"/news/9027/nasas-perseverance-rover-successfully-cores-its-first-rock/\" target=\"_self\">NASA's Perseverance Rover Successfully Cores Its First Rock</a></div><div class=\"article_teaser_body\">Perseverance will obtain additional imagery of the sample tube before potentially completing the process of collecting its first scientifically-selected Mars sample.\n",
       "</div></div></div></li><li class=\"slide\"><div class=\"image_and_description_container\"><a href=\"/news/9022/nasas-perseverance-plans-next-sample-attempt/\" target=\"_self\"><div class=\"rollover_description\"><div class=\"rollover_description_inner\">The rover will abrade a rock this week, allowing scientists and engineers to decide whether that target would withstand its powerful drill.</div><div class=\"overlay_arrow\"><img alt=\"More\" src=\"/assets/overlay-arrow.png\"/></div></div><div class=\"list_image\"><img alt=\"NASA’s Perseverance Mars rover will abrade the rock at the center of this image, allowing scientists and engineers to assess whether it would hold up to the rover’s more powerful sampling drill. \" src=\"/system/news_items/list_view_images/9022_PIA24767-thumb.jpg\"/></div><div class=\"bottom_gradient\"><div><h3>NASA's Perseverance Plans Next Sample Attempt</h3></div></div></a><div class=\"list_text\"><div class=\"list_date\">August 26, 2021</div><div class=\"content_title\"><a href=\"/news/9022/nasas-perseverance-plans-next-sample-attempt/\" target=\"_self\">NASA's Perseverance Plans Next Sample Attempt</a></div><div class=\"article_teaser_body\">The rover will abrade a rock this week, allowing scientists and engineers to decide whether that target would withstand its powerful drill.</div></div></div></li><li class=\"slide\"><div class=\"image_and_description_container\"><a href=\"/news/9021/my-favorite-martian-image-helicopter-sees-potential-rover-road-ahead/\" target=\"_self\"><div class=\"rollover_description\"><div class=\"rollover_description_inner\">Perseverance scientist impressed with aerial images of location considered for rover exploration.  </div><div class=\"overlay_arrow\"><img alt=\"More\" src=\"/assets/overlay-arrow.png\"/></div></div><div class=\"list_image\"><img alt=\"This image of the “South Séítah” region of Jezero Crater was captured by NASA’s Ingenuity Mars Helicopter during its 12th flight at Mars, on Aug. 16, 2021, and has proven useful to the Perseverance rover science team as it plans its science investigations.\" src=\"/system/news_items/list_view_images/9021_PIA24801-thumb.jpg\"/></div><div class=\"bottom_gradient\"><div><h3>My Favorite Martian Image: Helicopter Sees Potential Rover Road Ahead</h3></div></div></a><div class=\"list_text\"><div class=\"list_date\">August 25, 2021</div><div class=\"content_title\"><a href=\"/news/9021/my-favorite-martian-image-helicopter-sees-potential-rover-road-ahead/\" target=\"_self\">My Favorite Martian Image: Helicopter Sees Potential Rover Road Ahead</a></div><div class=\"article_teaser_body\">Perseverance scientist impressed with aerial images of location considered for rover exploration.  </div></div></div></li><li class=\"slide\"><div class=\"image_and_description_container\"><a href=\"/news/9016/nasas-curiosity-mars-rover-explores-a-changing-landscape/\" target=\"_self\"><div class=\"rollover_description\"><div class=\"rollover_description_inner\">A new video rings in the rover’s ninth year on Mars, letting viewers tour Curiosity’s location on a Martian mountain.</div><div class=\"overlay_arrow\"><img alt=\"More\" src=\"/assets/overlay-arrow.png\"/></div></div><div class=\"list_image\"><img alt=\"NASA’s Curiosity Mars rover used its Mast Camera, or Mastcam, to capture this 360-degree view on July 3, 2021, the 3,167th Martian day, or sol, of the mission. \" src=\"/system/news_items/list_view_images/9016_1-PIA24643-thumb.png\"/></div><div class=\"bottom_gradient\"><div><h3>NASA's Curiosity Mars Rover Explores a Changing Landscape</h3></div></div></a><div class=\"list_text\"><div class=\"list_date\">August 17, 2021</div><div class=\"content_title\"><a href=\"/news/9016/nasas-curiosity-mars-rover-explores-a-changing-landscape/\" target=\"_self\">NASA's Curiosity Mars Rover Explores a Changing Landscape</a></div><div class=\"article_teaser_body\">A new video rings in the rover’s ninth year on Mars, letting viewers tour Curiosity’s location on a Martian mountain.</div></div></div></li><li class=\"slide\"><div class=\"image_and_description_container\"><a href=\"/news/9034/global-trio-of-orbiters-shows-small-dust-storms-help-dry-out-mars/\" target=\"_self\"><div class=\"rollover_description\"><div class=\"rollover_description_inner\">By combining observations from three international spacecraft at Mars, scientists were able to show that regional dust storms play a huge role in drying out the Red Planet.</div><div class=\"overlay_arrow\"><img alt=\"More\" src=\"/assets/overlay-arrow.png\"/></div></div><div class=\"list_image\"><img alt=\"This illustration shows the MAVEN spacecraft and the limb of Mars. \" src=\"/system/news_items/list_view_images/9034_24731_maven_vertical_limb-320x240.jpg\"/></div><div class=\"bottom_gradient\"><div><h3>Global Trio of Orbiters Shows Small Dust Storms Help Dry Out Mars</h3></div></div></a><div class=\"list_text\"><div class=\"list_date\">August 16, 2021</div><div class=\"content_title\"><a href=\"/news/9034/global-trio-of-orbiters-shows-small-dust-storms-help-dry-out-mars/\" target=\"_self\">Global Trio of Orbiters Shows Small Dust Storms Help Dry Out Mars</a></div><div class=\"article_teaser_body\">By combining observations from three international spacecraft at Mars, scientists were able to show that regional dust storms play a huge role in drying out the Red Planet.</div></div></div></li><li class=\"slide\"><div class=\"image_and_description_container\"><a href=\"/news/9012/nasas-ingenuity-mars-helicopter-spots-perseverance-from-above/\" target=\"_self\"><div class=\"rollover_description\"><div class=\"rollover_description_inner\">Can you see NASA’s newest rover in this picture from Jezero Crater?</div><div class=\"overlay_arrow\"><img alt=\"More\" src=\"/assets/overlay-arrow.png\"/></div></div><div class=\"list_image\"><img alt=\"This image of the “South Séítah” region of Jezero Crater was taken by NASA’s Ingenuity Mars Helicopter during its 11th flight on Aug. 4.\" src=\"/system/news_items/list_view_images/9012_PIA24793-1-1041_320x240.jpg\"/></div><div class=\"bottom_gradient\"><div><h3>NASA's Ingenuity Mars Helicopter Spots Perseverance From Above</h3></div></div></a><div class=\"list_text\"><div class=\"list_date\">August 11, 2021</div><div class=\"content_title\"><a href=\"/news/9012/nasas-ingenuity-mars-helicopter-spots-perseverance-from-above/\" target=\"_self\">NASA's Ingenuity Mars Helicopter Spots Perseverance From Above</a></div><div class=\"article_teaser_body\">Can you see NASA’s newest rover in this picture from Jezero Crater?</div></div></div></li><li class=\"slide\"><div class=\"image_and_description_container\"><a href=\"/news/9010/aviation-week-awards-nasas-ingenuity-mars-helicopter-with-laureate/\" target=\"_self\"><div class=\"rollover_description\"><div class=\"rollover_description_inner\">The prestigious honor recognizes the pioneering rotorcraft for its history-making flights on the Red Planet.</div><div class=\"overlay_arrow\"><img alt=\"More\" src=\"/assets/overlay-arrow.png\"/></div></div><div class=\"list_image\"><img alt=\"Ingenuity’s Mars Helicopter took the image on the left with its navigation camera and the image on the right with its color camera during its 10th Flight, on July 24, 2021.\" src=\"/system/news_items/list_view_images/9010_helicopter-laureate-side-by-side-thumb.jpg\"/></div><div class=\"bottom_gradient\"><div><h3>Aviation Week Awards NASA's Ingenuity Mars Helicopter With Laureate </h3></div></div></a><div class=\"list_text\"><div class=\"list_date\">August 10, 2021</div><div class=\"content_title\"><a href=\"/news/9010/aviation-week-awards-nasas-ingenuity-mars-helicopter-with-laureate/\" target=\"_self\">Aviation Week Awards NASA's Ingenuity Mars Helicopter With Laureate </a></div><div class=\"article_teaser_body\">The prestigious honor recognizes the pioneering rotorcraft for its history-making flights on the Red Planet.</div></div></div></li><li class=\"slide\"><div class=\"image_and_description_container\"><a href=\"/news/9007/nasas-perseverance-team-assessing-first-mars-sampling-attempt/\" target=\"_self\"><div class=\"rollover_description\"><div class=\"rollover_description_inner\">The rover continues to explore Jezero Crater while the team assesses today’s activities.</div><div class=\"overlay_arrow\"><img alt=\"More\" src=\"/assets/overlay-arrow.png\"/></div></div><div class=\"list_image\"><img alt=\"This image taken by NASA's Perseverance rover on Aug. 6, 2021, shows the hole drilled in a Martian rock in preparation for the rover’s first attempt to collect a sample.\" src=\"/system/news_items/list_view_images/9007_PIA24795_thumbnail.jpg\"/></div><div class=\"bottom_gradient\"><div><h3>NASA's Perseverance Team Assessing First Mars Sampling Attempt</h3></div></div></a><div class=\"list_text\"><div class=\"list_date\">August  6, 2021</div><div class=\"content_title\"><a href=\"/news/9007/nasas-perseverance-team-assessing-first-mars-sampling-attempt/\" target=\"_self\">NASA's Perseverance Team Assessing First Mars Sampling Attempt</a></div><div class=\"article_teaser_body\">The rover continues to explore Jezero Crater while the team assesses today’s activities.</div></div></div></li><li class=\"slide\"><div class=\"image_and_description_container\"><a href=\"/news/9005/building-a-mars-treasure-chest-one-test-tube-at-a-time/\" target=\"_self\"><div class=\"rollover_description\"><div class=\"rollover_description_inner\">This week, the Perseverance team here on Earth hopes to make scientific treasure hunting history on Mars.</div><div class=\"overlay_arrow\"><img alt=\"More\" src=\"/assets/overlay-arrow.png\"/></div></div><div class=\"list_image\"><img alt=\"Anatomy of a Sample Tube\" src=\"/system/news_items/list_view_images/9005_25482_PIA24306b-M2020_SampleTube_Illustration_Exterior_005-320x240.jpg\"/></div><div class=\"bottom_gradient\"><div><h3>Building a Mars Treasure Chest, One Test Tube at a Time</h3></div></div></a><div class=\"list_text\"><div class=\"list_date\">August  5, 2021</div><div class=\"content_title\"><a href=\"/news/9005/building-a-mars-treasure-chest-one-test-tube-at-a-time/\" target=\"_self\">Building a Mars Treasure Chest, One Test Tube at a Time</a></div><div class=\"article_teaser_body\">This week, the Perseverance team here on Earth hopes to make scientific treasure hunting history on Mars.</div></div></div></li><li class=\"slide\"><div class=\"image_and_description_container\"><a href=\"/news/9004/my-favorite-martian-image-helicopter-scouts-ridge-area-for-perseverance/\" target=\"_self\"><div class=\"rollover_description\"><div class=\"rollover_description_inner\">A member of the Perseverance rover’s science team explains why the aerial image offers science advantages over ground-level images.</div><div class=\"overlay_arrow\"><img alt=\"More\" src=\"/assets/overlay-arrow.png\"/></div></div><div class=\"list_image\"><img alt=\"This 3D view of geologic feature the Mars Perseverance rover team calls “Raised Ridges” was generated from data collected by Ingenuity during its 10th flight at Mars, on July 24, 2021.\" src=\"/system/news_items/list_view_images/9004_PIA24688-thumb.png\"/></div><div class=\"bottom_gradient\"><div><h3>My Favorite Martian Image: Helicopter Scouts Ridge Area for Perseverance</h3></div></div></a><div class=\"list_text\"><div class=\"list_date\">August  4, 2021</div><div class=\"content_title\"><a href=\"/news/9004/my-favorite-martian-image-helicopter-scouts-ridge-area-for-perseverance/\" target=\"_self\">My Favorite Martian Image: Helicopter Scouts Ridge Area for Perseverance</a></div><div class=\"article_teaser_body\">A member of the Perseverance rover’s science team explains why the aerial image offers science advantages over ground-level images.</div></div></div></li><li class=\"slide\"><div class=\"image_and_description_container\"><a href=\"/news/9000/clays-not-water-are-likely-source-of-mars-lakes/\" target=\"_self\"><div class=\"rollover_description\"><div class=\"rollover_description_inner\">Three studies published in the past month have cast doubt on the premise of subsurface lakes below the Martian south pole.</div><div class=\"overlay_arrow\"><img alt=\"More\" src=\"/assets/overlay-arrow.png\"/></div></div><div class=\"list_image\"><img alt=\"This is a colored image of ice sheets at Mars’ south pole. The spacecraft detected clays nearby this ice; scientists have proposed such clays are the source of radar reflections that have been previously interpreted as liquid water. The image looks like clay with sandy many lines going vertically. \" src=\"/system/news_items/list_view_images/9000_PIA24763-thumbnail.jpg\"/></div><div class=\"bottom_gradient\"><div><h3>Clays, Not Water, Are Likely Source of Mars 'Lakes'</h3></div></div></a><div class=\"list_text\"><div class=\"list_date\">July 29, 2021</div><div class=\"content_title\"><a href=\"/news/9000/clays-not-water-are-likely-source-of-mars-lakes/\" target=\"_self\">Clays, Not Water, Are Likely Source of Mars 'Lakes'</a></div><div class=\"article_teaser_body\">Three studies published in the past month have cast doubt on the premise of subsurface lakes below the Martian south pole.</div></div></div></li><li class=\"slide\"><div class=\"image_and_description_container\"><a href=\"/news/8996/nasas-insight-reveals-the-deep-interior-of-mars/\" target=\"_self\"><div class=\"rollover_description\"><div class=\"rollover_description_inner\">Three papers published today share new details on the crust, mantle, and molten core of the Red Planet.</div><div class=\"overlay_arrow\"><img alt=\"More\" src=\"/assets/overlay-arrow.png\"/></div></div><div class=\"list_image\"><img alt=\"\" src=\"/system/news_items/list_view_images/8996_1-PIA23180_thumb.gif\"/></div><div class=\"bottom_gradient\"><div><h3>NASA's InSight Reveals the Deep Interior of Mars</h3></div></div></a><div class=\"list_text\"><div class=\"list_date\">July 22, 2021</div><div class=\"content_title\"><a href=\"/news/8996/nasas-insight-reveals-the-deep-interior-of-mars/\" target=\"_self\">NASA's InSight Reveals the Deep Interior of Mars</a></div><div class=\"article_teaser_body\">Three papers published today share new details on the crust, mantle, and molten core of the Red Planet.</div></div></div></li><li class=\"slide\"><div class=\"image_and_description_container\"><a href=\"/news/8995/nasa-perseverance-mars-rover-to-acquire-first-sample/\" target=\"_self\"><div class=\"rollover_description\"><div class=\"rollover_description_inner\">The six-wheeler’s science campaign has laid the groundwork for the mission’s next major milestone.</div><div class=\"overlay_arrow\"><img alt=\"More\" src=\"/assets/overlay-arrow.png\"/></div></div><div class=\"list_image\"><img alt=\"A light-colored “paver stone” like the ones seen in this mosaic will be the likely target for first sampling by the Perseverance rover. The image was taken on July 8, 2021, in the “Cratered Floor Fractured Rough” geologic unit at Jezero Crater\" src=\"/system/news_items/list_view_images/8995_PIA24746-320x240.jpg\"/></div><div class=\"bottom_gradient\"><div><h3>NASA Perseverance Mars Rover to Acquire First Sample</h3></div></div></a><div class=\"list_text\"><div class=\"list_date\">July 21, 2021</div><div class=\"content_title\"><a href=\"/news/8995/nasa-perseverance-mars-rover-to-acquire-first-sample/\" target=\"_self\">NASA Perseverance Mars Rover to Acquire First Sample</a></div><div class=\"article_teaser_body\">The six-wheeler’s science campaign has laid the groundwork for the mission’s next major milestone.</div></div></div></li><li class=\"slide\"><div class=\"image_and_description_container\"><a href=\"/news/8994/signs-of-life-on-mars-nasas-perseverance-rover-begins-the-hunt/\" target=\"_self\"><div class=\"rollover_description\"><div class=\"rollover_description_inner\">After testing a bristling array of instruments on its robotic arm, NASA’s latest Mars rover gets down to business: probing rocks and dust for evidence of past life.</div><div class=\"overlay_arrow\"><img alt=\"More\" src=\"/assets/overlay-arrow.png\"/></div></div><div class=\"list_image\"><img alt=\"\" src=\"/system/news_items/list_view_images/8994_1b-PIA24748-thumb.jpg\"/></div><div class=\"bottom_gradient\"><div><h3>Signs of Life on Mars? NASA's Perseverance Rover Begins the Hunt</h3></div></div></a><div class=\"list_text\"><div class=\"list_date\">July 20, 2021</div><div class=\"content_title\"><a href=\"/news/8994/signs-of-life-on-mars-nasas-perseverance-rover-begins-the-hunt/\" target=\"_self\">Signs of Life on Mars? NASA's Perseverance Rover Begins the Hunt</a></div><div class=\"article_teaser_body\">After testing a bristling array of instruments on its robotic arm, NASA’s latest Mars rover gets down to business: probing rocks and dust for evidence of past life.</div></div></div></li><li class=\"slide\"><div class=\"image_and_description_container\"><a href=\"/news/8992/journey-to-the-center-of-mars-with-the-insight-lander-team/\" target=\"_self\"><div class=\"rollover_description\"><div class=\"rollover_description_inner\">Scientists will talk about new findings in a question-and-answer session with the news media and public.</div><div class=\"overlay_arrow\"><img alt=\"More\" src=\"/assets/overlay-arrow.png\"/></div></div><div class=\"list_image\"><img alt=\"An artist's concept depicting NASA's InSight lander after it has deployed its instruments on the Martian surface.\" src=\"/system/news_items/list_view_images/8992_22116_PIA22743-thumb.jpg\"/></div><div class=\"bottom_gradient\"><div><h3>Journey to the Center of Mars With the InSight Lander Team</h3></div></div></a><div class=\"list_text\"><div class=\"list_date\">July 20, 2021</div><div class=\"content_title\"><a href=\"/news/8992/journey-to-the-center-of-mars-with-the-insight-lander-team/\" target=\"_self\">Journey to the Center of Mars With the InSight Lander Team</a></div><div class=\"article_teaser_body\">Scientists will talk about new findings in a question-and-answer session with the news media and public.</div></div></div></li><li class=\"slide\"><div class=\"image_and_description_container\"><a href=\"/news/8990/nasa-to-brief-early-science-from-perseverance-mars-rover/\" target=\"_self\"><div class=\"rollover_description\"><div class=\"rollover_description_inner\">Panelists will discuss the rover’s recently started science campaign and groundwork for its next major milestone.</div><div class=\"overlay_arrow\"><img alt=\"More\" src=\"/assets/overlay-arrow.png\"/></div></div><div class=\"list_image\"><img alt=\"\" src=\"/system/news_items/list_view_images/8990_21378_PIA22106-thumbnail.jpg\"/></div><div class=\"bottom_gradient\"><div><h3>NASA to Brief Early Science From Perseverance Mars Rover</h3></div></div></a><div class=\"list_text\"><div class=\"list_date\">July 16, 2021</div><div class=\"content_title\"><a href=\"/news/8990/nasa-to-brief-early-science-from-perseverance-mars-rover/\" target=\"_self\">NASA to Brief Early Science From Perseverance Mars Rover</a></div><div class=\"article_teaser_body\">Panelists will discuss the rover’s recently started science campaign and groundwork for its next major milestone.</div></div></div></li><li class=\"slide\"><div class=\"image_and_description_container\"><a href=\"/news/8987/nasas-mars-helicopter-reveals-intriguing-terrain-for-rover-team/\" target=\"_self\"><div class=\"rollover_description\"><div class=\"rollover_description_inner\">Ingenuity’s ninth flight provided imagery that will help the Perseverance rover team develop its science plan going forward.</div><div class=\"overlay_arrow\"><img alt=\"More\" src=\"/assets/overlay-arrow.png\"/></div></div><div class=\"list_image\"><img alt=\"\" src=\"/system/news_items/list_view_images/8987_1-PIA24730-web.jpg\"/></div><div class=\"bottom_gradient\"><div><h3>NASA's Mars Helicopter Reveals Intriguing Terrain for Rover Team </h3></div></div></a><div class=\"list_text\"><div class=\"list_date\">July 12, 2021</div><div class=\"content_title\"><a href=\"/news/8987/nasas-mars-helicopter-reveals-intriguing-terrain-for-rover-team/\" target=\"_self\">NASA's Mars Helicopter Reveals Intriguing Terrain for Rover Team </a></div><div class=\"article_teaser_body\">Ingenuity’s ninth flight provided imagery that will help the Perseverance rover team develop its science plan going forward.</div></div></div></li><li class=\"slide\"><div class=\"image_and_description_container\"><a href=\"/news/8985/nasas-curiosity-rover-finds-patches-of-rock-record-erased-revealing-clues/\" target=\"_self\"><div class=\"rollover_description\"><div class=\"rollover_description_inner\">A new paper enriches scientists’ understanding of where the rock record preserved or destroyed evidence of Mars’ past and possible signs of ancient life.</div><div class=\"overlay_arrow\"><img alt=\"More\" src=\"/assets/overlay-arrow.png\"/></div></div><div class=\"list_image\"><img alt=\"A self-portrait of NASA's Curiosity rover taken on Sol 2082 (June 15, 2018).\" src=\"/system/news_items/list_view_images/8985_1-_banner_-pia22486-thumb.jpg\"/></div><div class=\"bottom_gradient\"><div><h3>NASA's Curiosity Rover Finds Patches of Rock Record Erased, Revealing Clues</h3></div></div></a><div class=\"list_text\"><div class=\"list_date\">July  8, 2021</div><div class=\"content_title\"><a href=\"/news/8985/nasas-curiosity-rover-finds-patches-of-rock-record-erased-revealing-clues/\" target=\"_self\">NASA's Curiosity Rover Finds Patches of Rock Record Erased, Revealing Clues</a></div><div class=\"article_teaser_body\">A new paper enriches scientists’ understanding of where the rock record preserved or destroyed evidence of Mars’ past and possible signs of ancient life.</div></div></div></li><li class=\"slide\"><div class=\"image_and_description_container\"><a href=\"/news/8982/meet-the-open-source-software-powering-nasas-ingenuity-mars-helicopter/\" target=\"_self\"><div class=\"rollover_description\"><div class=\"rollover_description_inner\">Created at NASA’s JPL, the open-source flight software called F Prime isn’t just powering humanity’s first interplanetary helicopter; it’s also powering inspiration at multiple universities.</div><div class=\"overlay_arrow\"><img alt=\"More\" src=\"/assets/overlay-arrow.png\"/></div></div><div class=\"list_image\"><img alt=\"\" src=\"/system/news_items/list_view_images/8982_1-PIA24598-thumb.jpg\"/></div><div class=\"bottom_gradient\"><div><h3>Meet the Open-Source Software Powering NASA's Ingenuity Mars Helicopter</h3></div></div></a><div class=\"list_text\"><div class=\"list_date\">July  8, 2021</div><div class=\"content_title\"><a href=\"/news/8982/meet-the-open-source-software-powering-nasas-ingenuity-mars-helicopter/\" target=\"_self\">Meet the Open-Source Software Powering NASA's Ingenuity Mars Helicopter</a></div><div class=\"article_teaser_body\">Created at NASA’s JPL, the open-source flight software called F Prime isn’t just powering humanity’s first interplanetary helicopter; it’s also powering inspiration at multiple universities.</div></div></div></li><li class=\"slide\"><div class=\"image_and_description_container\"><a href=\"/news/8980/nasas-self-driving-perseverance-mars-rover-takes-the-wheel/\" target=\"_self\"><div class=\"rollover_description\"><div class=\"rollover_description_inner\">The agency’s newest rover is trekking across the Martian landscape using a newly enhanced auto-navigation system.</div><div class=\"overlay_arrow\"><img alt=\"More\" src=\"/assets/overlay-arrow.png\"/></div></div><div class=\"list_image\"><img alt=\"Perseverance relies on left and right navigation cameras. The view seen here combines the perspective of two cameras rover during the rover’s first drive using AutoNav, it’s auto-navigation function. \" src=\"/system/news_items/list_view_images/8980_1-PIA24722-Perseverances-First-Autonav-Drive-thumb.jpg\"/></div><div class=\"bottom_gradient\"><div><h3>NASA's Self-Driving Perseverance Mars Rover 'Takes the Wheel'</h3></div></div></a><div class=\"list_text\"><div class=\"list_date\">July  1, 2021</div><div class=\"content_title\"><a href=\"/news/8980/nasas-self-driving-perseverance-mars-rover-takes-the-wheel/\" target=\"_self\">NASA's Self-Driving Perseverance Mars Rover 'Takes the Wheel'</a></div><div class=\"article_teaser_body\">The agency’s newest rover is trekking across the Martian landscape using a newly enhanced auto-navigation system.</div></div></div></li><li class=\"slide\"><div class=\"image_and_description_container\"><a href=\"/news/8976/first-you-see-it-then-you-dont-scientists-closer-to-explaining-mars-methane-mystery/\" target=\"_self\"><div class=\"rollover_description\"><div class=\"rollover_description_inner\">Why do some science instruments detect the gas on the Red Planet while others don’t?</div><div class=\"overlay_arrow\"><img alt=\"More\" src=\"/assets/overlay-arrow.png\"/></div></div><div class=\"list_image\"><img alt=\"Two of the raised treads, called grousers, on the left middle wheel of NASA's Curiosity Mars rover broke during the first quarter of 2017, including the one seen partially detached at the top of the wheel in this image from the Mars Hand Lens Imager (MAHLI) camera on the rover's arm.\" src=\"/system/news_items/list_view_images/8976_msl-rover-wheel-damage-pia21486-thumb.jpg\"/></div><div class=\"bottom_gradient\"><div><h3>First You See It, Then You Don't: Scientists Closer to Explaining Mars Methane Mystery</h3></div></div></a><div class=\"list_text\"><div class=\"list_date\">June 29, 2021</div><div class=\"content_title\"><a href=\"/news/8976/first-you-see-it-then-you-dont-scientists-closer-to-explaining-mars-methane-mystery/\" target=\"_self\">First You See It, Then You Don't: Scientists Closer to Explaining Mars Methane Mystery</a></div><div class=\"article_teaser_body\">Why do some science instruments detect the gas on the Red Planet while others don’t?</div></div></div></li><li class=\"slide\"><div class=\"image_and_description_container\"><a href=\"/news/8974/watch-and-hear-how-nasas-perseverance-rover-took-its-first-selfie/\" target=\"_self\"><div class=\"rollover_description\"><div class=\"rollover_description_inner\">The historic image of the rover beside the Mars Helicopter proved to be one of the most complex rover selfies ever taken. Video, with bonus audio, sheds light on the process. </div><div class=\"overlay_arrow\"><img alt=\"More\" src=\"/assets/overlay-arrow.png\"/></div></div><div class=\"list_image\"><img alt=\"NASA’s Perseverance Mars rover took a selfie with the Ingenuity helicopter.\" src=\"/system/news_items/list_view_images/8974_25790_First_selfie-320-thumbnail.gif\"/></div><div class=\"bottom_gradient\"><div><h3>Watch (and Hear) How NASA's Perseverance Rover Took Its First Selfie</h3></div></div></a><div class=\"list_text\"><div class=\"list_date\">June 25, 2021</div><div class=\"content_title\"><a href=\"/news/8974/watch-and-hear-how-nasas-perseverance-rover-took-its-first-selfie/\" target=\"_self\">Watch (and Hear) How NASA's Perseverance Rover Took Its First Selfie</a></div><div class=\"article_teaser_body\">The historic image of the rover beside the Mars Helicopter proved to be one of the most complex rover selfies ever taken. Video, with bonus audio, sheds light on the process. </div></div></div></li><li class=\"slide\"><div class=\"image_and_description_container\"><a href=\"/news/8972/study-looks-more-closely-at-mars-underground-water-signals/\" target=\"_self\"><div class=\"rollover_description\"><div class=\"rollover_description_inner\">A new paper finds more radar signals suggesting the presence of subsurface ‘lakes,’ but many are in areas too cold for water to remain liquid.</div><div class=\"overlay_arrow\"><img alt=\"More\" src=\"/assets/overlay-arrow.png\"/></div></div><div class=\"list_image\"><img alt=\"A map for which the bright white region shows the icy cap that covers Mars’ south pole, composed of frozen water and frozen carbon dioxide. \" src=\"/system/news_items/list_view_images/8972_cappucino-swirls-thumbnail.jpg\"/></div><div class=\"bottom_gradient\"><div><h3>Study Looks More Closely at Mars' Underground Water Signals</h3></div></div></a><div class=\"list_text\"><div class=\"list_date\">June 24, 2021</div><div class=\"content_title\"><a href=\"/news/8972/study-looks-more-closely-at-mars-underground-water-signals/\" target=\"_self\">Study Looks More Closely at Mars' Underground Water Signals</a></div><div class=\"article_teaser_body\">A new paper finds more radar signals suggesting the presence of subsurface ‘lakes,’ but many are in areas too cold for water to remain liquid.</div></div></div></li><li class=\"slide\"><div class=\"image_and_description_container\"><a href=\"/news/8970/my-favorite-martian-image-jezero-craters-delta-scarp/\" target=\"_self\"><div class=\"rollover_description\"><div class=\"rollover_description_inner\">A Perseverance rover scientist’s favorite shot from the young Mars mission provides a new angle on an old and intriguing surface feature.</div><div class=\"overlay_arrow\"><img alt=\"More\" src=\"/assets/overlay-arrow.png\"/></div></div><div class=\"list_image\"><img alt=\"This composite image of Jezero Crater’s “Delta Scarp” was generated using data from the Perseverance rover’s Remote Microscopic Imager and Mastcam-Z camera. \" src=\"/system/news_items/list_view_images/8970_1-PIA24683-320x240.jpg\"/></div><div class=\"bottom_gradient\"><div><h3>My Favorite Martian Image: Jezero Crater's 'Delta Scarp'</h3></div></div></a><div class=\"list_text\"><div class=\"list_date\">June 22, 2021</div><div class=\"content_title\"><a href=\"/news/8970/my-favorite-martian-image-jezero-craters-delta-scarp/\" target=\"_self\">My Favorite Martian Image: Jezero Crater's 'Delta Scarp'</a></div><div class=\"article_teaser_body\">A Perseverance rover scientist’s favorite shot from the young Mars mission provides a new angle on an old and intriguing surface feature.</div></div></div></li><li class=\"slide\"><div class=\"image_and_description_container\"><a href=\"/news/8966/nasas-ingenuity-mission-honored-by-the-space-foundation/\" target=\"_self\"><div class=\"rollover_description\"><div class=\"rollover_description_inner\">The mission picked up the 2021 John L. “Jack” Swigert, Jr., Award for Space Exploration for its history-making achievements.</div><div class=\"overlay_arrow\"><img alt=\"More\" src=\"/assets/overlay-arrow.png\"/></div></div><div class=\"list_image\"><img alt=\"This black and white helicopter sequence of images – taken on May 22, 2021, by the navigation camera aboard NASA’s Ingenuity Mars Helicopter – shows the last 29 seconds of the rotorcraft’s sixth flight. \" src=\"/system/news_items/list_view_images/8966_PIA24598-thumbnail.gif\"/></div><div class=\"bottom_gradient\"><div><h3>NASA's Ingenuity Mission Honored by the Space Foundation</h3></div></div></a><div class=\"list_text\"><div class=\"list_date\">June 15, 2021</div><div class=\"content_title\"><a href=\"/news/8966/nasas-ingenuity-mission-honored-by-the-space-foundation/\" target=\"_self\">NASA's Ingenuity Mission Honored by the Space Foundation</a></div><div class=\"article_teaser_body\">The mission picked up the 2021 John L. “Jack” Swigert, Jr., Award for Space Exploration for its history-making achievements.</div></div></div></li><li class=\"slide\"><div class=\"image_and_description_container\"><a href=\"/news/8963/nasas-perseverance-rover-begins-its-first-science-campaign-on-mars/\" target=\"_self\"><div class=\"rollover_description\"><div class=\"rollover_description_inner\">The six-wheeled scientist is heading south to explore Jezero Crater’s lakebed in search of signs of ancient microbial life.</div><div class=\"overlay_arrow\"><img alt=\"More\" src=\"/assets/overlay-arrow.png\"/></div></div><div class=\"list_image\"><img alt=\"Mastcam-Z's 360-degree View of &quot;Van Zyl Overlook&quot;\" src=\"/system/news_items/list_view_images/8963_PIA24663-320x240.jpg\"/></div><div class=\"bottom_gradient\"><div><h3>NASA's Perseverance Rover Begins Its First Science Campaign on Mars</h3></div></div></a><div class=\"list_text\"><div class=\"list_date\">June  9, 2021</div><div class=\"content_title\"><a href=\"/news/8963/nasas-perseverance-rover-begins-its-first-science-campaign-on-mars/\" target=\"_self\">NASA's Perseverance Rover Begins Its First Science Campaign on Mars</a></div><div class=\"article_teaser_body\">The six-wheeled scientist is heading south to explore Jezero Crater’s lakebed in search of signs of ancient microbial life.</div></div></div></li><li class=\"slide\"><div class=\"image_and_description_container\"><a href=\"/news/8959/nasas-insight-mars-lander-gets-a-power-boost/\" target=\"_self\"><div class=\"rollover_description\"><div class=\"rollover_description_inner\">The spacecraft successfully cleared some dust off its solar panels, helping to raise its energy and delay when it will need to switch off its science instruments.</div><div class=\"overlay_arrow\"><img alt=\"More\" src=\"/assets/overlay-arrow.png\"/></div></div><div class=\"list_image\"><img alt=\"To clean a bit of dust from one of its solar panels, NASA’s InSight lander trickled sand above the panel.\" src=\"/system/news_items/list_view_images/8959_1-PIA24664-InSights-Robotic-Arm-Trickles-Sand-in-the-Wind320x240.gif\"/></div><div class=\"bottom_gradient\"><div><h3>NASA's InSight Mars Lander Gets a Power Boost</h3></div></div></a><div class=\"list_text\"><div class=\"list_date\">June  3, 2021</div><div class=\"content_title\"><a href=\"/news/8959/nasas-insight-mars-lander-gets-a-power-boost/\" target=\"_self\">NASA's InSight Mars Lander Gets a Power Boost</a></div><div class=\"article_teaser_body\">The spacecraft successfully cleared some dust off its solar panels, helping to raise its energy and delay when it will need to switch off its science instruments.</div></div></div></li><li class=\"slide\"><div class=\"image_and_description_container\"><a href=\"/news/8956/nasas-curiosity-rover-captures-shining-clouds-on-mars/\" target=\"_self\"><div class=\"rollover_description\"><div class=\"rollover_description_inner\">The science team is studying the clouds, which arrived earlier and formed higher than expected, to learn more about the Red Planet. </div><div class=\"overlay_arrow\"><img alt=\"More\" src=\"/assets/overlay-arrow.png\"/></div></div><div class=\"list_image\"><img alt=\"NASA’s Curiosity Mars rover captured these clouds just after sunset on March 19, 2021, the 3,063rd Martian day, or sol, of the rover’s mission. The image is made up of 21 individual images stitched together and color corrected so that the scene appears as it would to the human eye.\" src=\"/system/news_items/list_view_images/8956_25947_1-PIA24622-320x240.jpg\"/></div><div class=\"bottom_gradient\"><div><h3>NASA's Curiosity Rover Captures Shining Clouds on Mars</h3></div></div></a><div class=\"list_text\"><div class=\"list_date\">May 28, 2021</div><div class=\"content_title\"><a href=\"/news/8956/nasas-curiosity-rover-captures-shining-clouds-on-mars/\" target=\"_self\">NASA's Curiosity Rover Captures Shining Clouds on Mars</a></div><div class=\"article_teaser_body\">The science team is studying the clouds, which arrived earlier and formed higher than expected, to learn more about the Red Planet. </div></div></div></li><li class=\"slide\"><div class=\"image_and_description_container\"><a href=\"/news/8954/life-goals-nasa-software-unlocks-martian-rover-productivity/\" target=\"_self\"><div class=\"rollover_description\"><div class=\"rollover_description_inner\">Productivity pundits know lots of tricks to make the most of your day, so you can schedule enough time for important tasks while guarding against overload.</div><div class=\"overlay_arrow\"><img alt=\"More\" src=\"/assets/overlay-arrow.png\"/></div></div><div class=\"list_image\"><img alt=\"\" src=\"/system/news_items/list_view_images/8954_1-COCPIT-image-with-Andrea-Connel320x240.jpg\"/></div><div class=\"bottom_gradient\"><div><h3>Life Goals: NASA Software Unlocks Martian Rover Productivity</h3></div></div></a><div class=\"list_text\"><div class=\"list_date\">May 25, 2021</div><div class=\"content_title\"><a href=\"/news/8954/life-goals-nasa-software-unlocks-martian-rover-productivity/\" target=\"_self\">Life Goals: NASA Software Unlocks Martian Rover Productivity</a></div><div class=\"article_teaser_body\">Productivity pundits know lots of tricks to make the most of your day, so you can schedule enough time for important tasks while guarding against overload.</div></div></div></li><li class=\"slide\"><div class=\"image_and_description_container\"><a href=\"/news/8950/salts-could-be-important-piece-of-martian-organic-puzzle/\" target=\"_self\"><div class=\"rollover_description\"><div class=\"rollover_description_inner\">A NASA team has found that organic, or carbon-containing, salts are likely present on Mars, with implications for the Red Planet's past habitability.</div><div class=\"overlay_arrow\"><img alt=\"More\" src=\"/assets/overlay-arrow.png\"/></div></div><div class=\"list_image\"><img alt=\"Color image of Martian dunes\" src=\"/system/news_items/list_view_images/8950_1-Curiosity's-Color-View-320.jpg\"/></div><div class=\"bottom_gradient\"><div><h3>Salts Could Be Important Piece of Martian Organic Puzzle</h3></div></div></a><div class=\"list_text\"><div class=\"list_date\">May 20, 2021</div><div class=\"content_title\"><a href=\"/news/8950/salts-could-be-important-piece-of-martian-organic-puzzle/\" target=\"_self\">Salts Could Be Important Piece of Martian Organic Puzzle</a></div><div class=\"article_teaser_body\">A NASA team has found that organic, or carbon-containing, salts are likely present on Mars, with implications for the Red Planet's past habitability.</div></div></div></li><li class=\"slide\"><div class=\"image_and_description_container\"><a href=\"/news/8946/seeing-nasas-ingenuity-mars-helicopter-fly-in-3d/\" target=\"_self\"><div class=\"rollover_description\"><div class=\"rollover_description_inner\">A new video of the helicopter’s third flight gives viewers the sensation of standing on the Red Planet and seeing the action firsthand.</div><div class=\"overlay_arrow\"><img alt=\"More\" src=\"/assets/overlay-arrow.png\"/></div></div><div class=\"list_image\"><img alt=\"After the Mastcam-Z imager aboard NASA’s Perseverance rover captured Ingenuity’s third flight on April 25, the frames of the video that was stitched together were then reprojected to optimize viewing in an anaglyph, or an image seen in 3D when seen through color-filtered glasses.\" src=\"/system/news_items/list_view_images/8946_PIA24522_flight3_zcam_stereo-320x240.gif\"/></div><div class=\"bottom_gradient\"><div><h3>Seeing NASA's Ingenuity Mars Helicopter Fly in 3D</h3></div></div></a><div class=\"list_text\"><div class=\"list_date\">May 12, 2021</div><div class=\"content_title\"><a href=\"/news/8946/seeing-nasas-ingenuity-mars-helicopter-fly-in-3d/\" target=\"_self\">Seeing NASA's Ingenuity Mars Helicopter Fly in 3D</a></div><div class=\"article_teaser_body\">A new video of the helicopter’s third flight gives viewers the sensation of standing on the Red Planet and seeing the action firsthand.</div></div></div></li><li class=\"slide\"><div class=\"image_and_description_container\"><a href=\"/news/8944/perseverances-robotic-arm-starts-conducting-science/\" target=\"_self\"><div class=\"rollover_description\"><div class=\"rollover_description_inner\">NASA’s newest Mars rover is beginning to study the floor of an ancient crater that once held a lake.</div><div class=\"overlay_arrow\"><img alt=\"More\" src=\"/assets/overlay-arrow.png\"/></div></div><div class=\"list_image\"><img alt=\"“Santa Cruz,” a hill within Jezero Crater on Mars\" src=\"/system/news_items/list_view_images/8944_1-PIA24546-320.jpg\"/></div><div class=\"bottom_gradient\"><div><h3>Perseverance's Robotic Arm Starts Conducting Science</h3></div></div></a><div class=\"list_text\"><div class=\"list_date\">May 11, 2021</div><div class=\"content_title\"><a href=\"/news/8944/perseverances-robotic-arm-starts-conducting-science/\" target=\"_self\">Perseverance's Robotic Arm Starts Conducting Science</a></div><div class=\"article_teaser_body\">NASA’s newest Mars rover is beginning to study the floor of an ancient crater that once held a lake.</div></div></div></li><li class=\"slide\"><div class=\"image_and_description_container\"><a href=\"/news/8942/nasas-ingenuity-mars-helicopter-completes-first-one-way-trip/\" target=\"_self\"><div class=\"rollover_description\"><div class=\"rollover_description_inner\">The Red Planet rotorcraft headed south in support of furthering research into the potential use of aerial scouts on Mars in the future.</div><div class=\"overlay_arrow\"><img alt=\"More\" src=\"/assets/overlay-arrow.png\"/></div></div><div class=\"list_image\"><img alt=\"NASA’s Ingenuity Mars Helicopter’s fifth flight was captured on May 7, 2021, by one of the navigation cameras aboard the agency’s Perseverance rover. This was the first time it flew to a new landing site.\" src=\"/system/news_items/list_view_images/8942_PIA24647-320x240.jpg\"/></div><div class=\"bottom_gradient\"><div><h3>NASA's Ingenuity Mars Helicopter Completes First One-Way Trip  </h3></div></div></a><div class=\"list_text\"><div class=\"list_date\">May  7, 2021</div><div class=\"content_title\"><a href=\"/news/8942/nasas-ingenuity-mars-helicopter-completes-first-one-way-trip/\" target=\"_self\">NASA's Ingenuity Mars Helicopter Completes First One-Way Trip  </a></div><div class=\"article_teaser_body\">The Red Planet rotorcraft headed south in support of furthering research into the potential use of aerial scouts on Mars in the future.</div></div></div></li><li class=\"slide\"><div class=\"image_and_description_container\"><a href=\"/news/8941/nasas-perseverance-captures-video-audio-of-fourth-ingenuity-flight/\" target=\"_self\"><div class=\"rollover_description\"><div class=\"rollover_description_inner\">Sounds of the Mars Helicopter’s whirring rotors add another new dimension to the historic project.</div><div class=\"overlay_arrow\"><img alt=\"More\" src=\"/assets/overlay-arrow.png\"/></div></div><div class=\"list_image\"><img alt=\"Perseverance captures sound from NASA's Ingenuity Mars Helicopter in flight.\" src=\"/system/news_items/list_view_images/8941_20210507_HelicopterFliesOnMars-th.jpg\"/></div><div class=\"bottom_gradient\"><div><h3>NASA's Perseverance Captures Video, Audio of Fourth Ingenuity Flight</h3></div></div></a><div class=\"list_text\"><div class=\"list_date\">May  7, 2021</div><div class=\"content_title\"><a href=\"/news/8941/nasas-perseverance-captures-video-audio-of-fourth-ingenuity-flight/\" target=\"_self\">NASA's Perseverance Captures Video, Audio of Fourth Ingenuity Flight</a></div><div class=\"article_teaser_body\">Sounds of the Mars Helicopter’s whirring rotors add another new dimension to the historic project.</div></div></div></li><li class=\"slide\"><div class=\"image_and_description_container\"><a href=\"/news/8936/nasas-ingenuity-helicopter-to-begin-new-demonstration-phase/\" target=\"_self\"><div class=\"rollover_description\"><div class=\"rollover_description_inner\">The Red Planet rotorcraft will shift focus from proving flight is possible on Mars to demonstrating flight operations that future aerial craft could utilize.</div><div class=\"overlay_arrow\"><img alt=\"More\" src=\"/assets/overlay-arrow.png\"/></div></div><div class=\"list_image\"><img alt=\"Perseverance's Selfie with Ingenuity\" src=\"/system/news_items/list_view_images/8936_First_selfie_animation_320.jpg\"/></div><div class=\"bottom_gradient\"><div><h3>NASA's Ingenuity Helicopter to Begin New Demonstration Phase</h3></div></div></a><div class=\"list_text\"><div class=\"list_date\">April 30, 2021</div><div class=\"content_title\"><a href=\"/news/8936/nasas-ingenuity-helicopter-to-begin-new-demonstration-phase/\" target=\"_self\">NASA's Ingenuity Helicopter to Begin New Demonstration Phase</a></div><div class=\"article_teaser_body\">The Red Planet rotorcraft will shift focus from proving flight is possible on Mars to demonstrating flight operations that future aerial craft could utilize.</div></div></div></li></ul>"
      ]
     },
     "execution_count": 21,
     "metadata": {},
     "output_type": "execute_result"
    }
   ],
   "source": [
    "# Parse HTML resuslts with bsoup\n",
    "html = browser.html\n",
    "news_soup = BeautifulSoup(html, \"html.parser\")\n",
    "slide_element = news_soup.select_one(\"ul.item_list\")\n",
    "slide_element"
   ]
  },
  {
   "cell_type": "code",
   "execution_count": 22,
   "id": "a14a5d81",
   "metadata": {},
   "outputs": [
    {
     "data": {
      "text/plain": [
       "<div class=\"content_title\"><a href=\"/news/9036/nasas-perseverance-rover-collects-puzzle-pieces-of-mars-history/\" target=\"_self\">NASA's Perseverance Rover Collects Puzzle Pieces of Mars' History</a></div>"
      ]
     },
     "execution_count": 22,
     "metadata": {},
     "output_type": "execute_result"
    }
   ],
   "source": [
    "# inspect\n",
    "slide_element.find(\"div\", class_=\"content_title\")"
   ]
  },
  {
   "cell_type": "code",
   "execution_count": 23,
   "id": "18e2e444",
   "metadata": {},
   "outputs": [
    {
     "name": "stdout",
     "output_type": "stream",
     "text": [
      "NASA's Perseverance Rover Collects Puzzle Pieces of Mars' History\n"
     ]
    }
   ],
   "source": [
    "# find newest news title\n",
    "news_title = slide_element.find(\"div\", class_=\"content_title\").get_text()\n",
    "print(news_title)"
   ]
  },
  {
   "cell_type": "code",
   "execution_count": 7,
   "id": "c75054ba",
   "metadata": {},
   "outputs": [
    {
     "name": "stdout",
     "output_type": "stream",
     "text": [
      "The rocks it has analyzed for sample collection are helping the team better understand a past marked by volcanic activity and water.\n"
     ]
    }
   ],
   "source": [
    "# Find the newest paragraph text\n",
    "news_paragraph = slide_element.find(\"div\", class_=\"article_teaser_body\").get_text()\n",
    "print(news_paragraph)"
   ]
  },
  {
   "cell_type": "markdown",
   "id": "2a957e6f",
   "metadata": {},
   "source": [
    "### Mars Images:"
   ]
  },
  {
   "cell_type": "code",
   "execution_count": 8,
   "id": "6da3c7ee",
   "metadata": {},
   "outputs": [],
   "source": [
    "# Visit the NASA JPL (Jet Propulsion Laboratory) Site\n",
    "browser = Browser(\"chrome\", **executable_path)\n",
    "url = \"https://spaceimages-mars.com/\"\n",
    "browser.visit(url)"
   ]
  },
  {
   "cell_type": "code",
   "execution_count": 9,
   "id": "d8d9a4df",
   "metadata": {},
   "outputs": [
    {
     "name": "stdout",
     "output_type": "stream",
     "text": [
      "<html class=\"\"><head>\n",
      "<meta charset=\"utf-8\"/>\n",
      "<meta content=\"width=device-width, initial-scale=1\" name=\"viewport\"/>\n",
      "<link href=\"https://maxcdn.bootstrapcdn.com/bootstrap/4.0.0/css/bootstrap.min.css\" rel=\"stylesheet\"/>\n",
      "<!-- <link rel=\"stylesheet\" type=\"text/css\" href=\"css/font.css\"> -->\n",
      "<link href=\"css/app.css\" rel=\"stylesheet\" type=\"text/css\"/>\n",
      "<link href=\"https://stackpath.bootstrapcdn.com/font-awesome/4.7.0/css/font-awesome.min.css\" rel=\"stylesheet\" type=\"text/css\"/>\n",
      "<title>Space Image</title>\n",
      "<style type=\"text/css\">.fancybox-margin{margin-right:17px;}</style></head>\n",
      "<body>\n",
      "<div class=\"header\">\n",
      "<nav class=\"navbar navbar-expand-lg\">\n",
      "<a class=\"navbar-brand\" href=\"#\"><img id=\"logo\" src=\"image/nasa.png\"/><span class=\"logo\">Jet Propulsion Laboratory</span>\n",
      "<span class=\"logo1\">California Institute of Technology</span></a>\n",
      "<button aria-controls=\"navbarNav\" aria-expanded=\"false\" aria-label=\"Toggle navigation\" class=\"navbar-toggler\" data-target=\"#navbarNav\" data-toggle=\"collapse\" type=\"button\">\n",
      "<span class=\"navbar-toggler-icon\"></span>\n",
      "</button>\n",
      "<div class=\"collapse navbar-collapse justify-content-end\" id=\"navbarNav\">\n",
      "<ul class=\"navbar-nav\">\n",
      "<li class=\"nav-item active\">\n",
      "<a class=\"nav-link\" href=\"#\"><i aria-hidden=\"true\" class=\"fa fa-bars\"></i>   MENU   <i aria-hidden=\"true\" class=\"fa fa-search\"></i></a>\n",
      "</li>\n",
      "</ul>\n",
      "</div>\n",
      "</nav>\n",
      "<div class=\"floating_text_area\">\n",
      "<h2 class=\"brand_title\">FEATURED IMAGE</h2>\n",
      "<h1 class=\"media_feature_title\">Dusty Space Cloud</h1>\n",
      "<br/>\n",
      "<a class=\"showimg fancybox-thumbs\" href=\"image/featured/mars2.jpg\" target=\"_blank\"> <button class=\"btn btn-outline-light\"> FULL IMAGE</button></a>\n",
      "</div>\n",
      "<img class=\"headerimage fade-in\" src=\"image/featured/mars2.jpg\"/></div>\n",
      "<div class=\"search sticky\">\n",
      "<div class=\"col-md-12\">\n",
      "<div class=\"row\">\n",
      "<div class=\"col-md-6\">\n",
      "<input name=\"Search\" placeholder=\"Search\" type=\"text\"/>\n",
      "</div>\n",
      "<div class=\"col-md-6\">\n",
      "<select aria-label=\"Default select example\" class=\"form-select\" id=\"options\">\n",
      "<option onchange=\"0\" selected=\"\">Mars</option>\n",
      "<!-- <option data-filter=\"sun\" class=\"button\">Mars</option> -->\n",
      "<option class=\"button\" data-filter=\"Sun\">Sun</option>\n",
      "<option class=\"button\" data-filter=\"earth\">Earth</option>\n",
      "<option class=\"button\" data-filter=\"ida\">Ida</option>\n",
      "<option class=\"button\" data-filter=\"jupiter\">Jupiter</option>\n",
      "<option class=\"button\" data-filter=\"venus\">Venus</option>\n",
      "</select>\n",
      "</div>\n",
      "</div>\n",
      "</div>\n",
      "</div>\n",
      "<div class=\"container mt-5\">\n",
      "<div class=\"col-md-12\">\n",
      "<div class=\"row\">\n",
      "<div class=\"col-md-6\">\n",
      "<h1>Images</h1>\n",
      "</div>\n",
      "<div class=\"col-md-6\" id=\"icon\">\n",
      "<div class=\"icon2\"></div>\n",
      "<div class=\"icon1\"></div>\n",
      "</div>\n",
      "</div>\n",
      "</div>\n",
      "<!-- first div -->\n",
      "<div class=\"div1\" id=\"filter\">\n",
      "<div class=\"thmbgroup\"><a class=\"fancybox-thumbs\" data-fancybox-group=\"thumb\" href=\"image/mars/Icaria Fossae7.jpg\"><div class=\"thmb\"><img alt=\"\" class=\"thumbimg\" src=\"image/mars/Icaria Fossae7.jpg\"/><p class=\"thumbcontent\">January 1, 2020<br/>Icaria Fossae7</p></div></a><a class=\"fancybox-thumbs\" data-fancybox-group=\"thumb\" href=\"image/mars/Proctor Crater Dunes 7.jpg\"><div class=\"thmb\"><img alt=\"\" class=\"thumbimg\" src=\"image/mars/Proctor Crater Dunes 7.jpg\"/><p class=\"thumbcontent\">December 31, 2020<br/>Proctor Crater Dunes</p></div></a><a class=\"fancybox-thumbs\" data-fancybox-group=\"thumb\" href=\"image/mars/Icaria Fossae7.jpg\"><div class=\"thmb\"><img alt=\"\" class=\"thumbimg\" src=\"image/mars/Icaria Fossae7.jpg\"/><p class=\"thumbcontent\">December 31, 2020<br/>Icaria Fossae</p></div></a><a class=\"fancybox-thumbs\" data-fancybox-group=\"thumb\" href=\"image/mars/Proctor Crater Dunes 7.jpg\"><div class=\"thmb\"><img alt=\"\" class=\"thumbimg\" src=\"image/mars/Proctor Crater Dunes 7.jpg\"/><p class=\"thumbcontent\">December 29, 2020<br/>Proctor Crater Dunes</p></div></a><a class=\"fancybox-thumbs\" data-fancybox-group=\"thumb\" href=\"image/mars/Proctor Crater Dunes 7.jpg\"><div class=\"thmb\"><img alt=\"\" class=\"thumbimg\" src=\"image/mars/Proctor Crater Dunes 7.jpg\"/><p class=\"thumbcontent\">December 28, 2020<br/>roctor Crater Dunes</p></div></a><a class=\"fancybox-thumbs\" data-fancybox-group=\"thumb\" href=\"image/mars/Icaria Fossae7.jpg\"><div class=\"thmb\"><img alt=\"\" class=\"thumbimg\" src=\"image/mars/Icaria Fossae7.jpg\"/><p class=\"thumbcontent\">December 22, 2020<br/>Icaria Fossae</p></div></a><a class=\"fancybox-thumbs\" data-fancybox-group=\"thumb\" href=\"image/mars/Icaria Fossae.jpg\"><div class=\"thmb\"><img alt=\"\" class=\"thumbimg\" src=\"image/mars/Icaria Fossae.jpg\"/><p class=\"thumbcontent\">December 21, 2020<br/>Icaria Fossae</p></div></a><a class=\"fancybox-thumbs\" data-fancybox-group=\"thumb\" href=\"image/mars/Ariadnes Colles4.jpg\"><div class=\"thmb\"><img alt=\"\" class=\"thumbimg\" src=\"image/mars/Ariadnes Colles4.jpg\"/><p class=\"thumbcontent\">December 18, 2020<br/>Ariadnes Colles</p></div></a><a class=\"fancybox-thumbs\" data-fancybox-group=\"thumb\" href=\"image/mars/Niger Vallis.jpg\"><div class=\"thmb\"><img alt=\"\" class=\"thumbimg\" src=\"image/mars/Niger Vallis.jpg\"/><p class=\"thumbcontent\">December 17, 2020<br/>Niger Vallis</p></div></a><a class=\"fancybox-thumbs\" data-fancybox-group=\"thumb\" href=\"image/mars/Proctor Crater Dunes.jpg\"><div class=\"thmb\"><img alt=\"\" class=\"thumbimg\" src=\"image/mars/Proctor Crater Dunes.jpg\"/><p class=\"thumbcontent\">December 16, 2020<br/>Proctor Crater Dunes</p></div></a><a class=\"fancybox-thumbs\" data-fancybox-group=\"thumb\" href=\"image/mars/Niger Vallis.jpg\"><div class=\"thmb\"><img alt=\"\" class=\"thumbimg\" src=\"image/mars/Niger Vallis.jpg\"/><p class=\"thumbcontent\">December 15, 2020<br/>Niger Vallis</p></div></a><a class=\"fancybox-thumbs\" data-fancybox-group=\"thumb\" href=\"image/mars/Daedalia Planum.jpg\"><div class=\"thmb\"><img alt=\"\" class=\"thumbimg\" src=\"image/mars/Daedalia Planum.jpg\"/><p class=\"thumbcontent\">December 11, 2020<br/>Daedalia Planum</p></div></a><a class=\"fancybox-thumbs\" data-fancybox-group=\"thumb\" href=\"image/mars/Sirenum Fossae.jpg\"><div class=\"thmb\"><img alt=\"\" class=\"thumbimg\" src=\"image/mars/Sirenum Fossae.jpg\"/><p class=\"thumbcontent\">November,11, 2020<br/>Sirenum Fossae</p></div></a><a class=\"fancybox-thumbs\" data-fancybox-group=\"thumb\" href=\"image/mars/Ariadnes Colles4.jpg\"><div class=\"thmb\"><img alt=\"\" class=\"thumbimg\" src=\"image/mars/Ariadnes Colles4.jpg\"/><p class=\"thumbcontent\">November,13, 2020<br/>Ariadnes Colles</p></div></a><a class=\"fancybox-thumbs\" data-fancybox-group=\"thumb\" href=\"image/mars/South Polar Cap.jpg\"><div class=\"thmb\"><img alt=\"\" class=\"thumbimg\" src=\"image/mars/South Polar Cap.jpg\"/><p class=\"thumbcontent\">November,14, 2020<br/>South Polar Cap</p></div></a><a class=\"fancybox-thumbs\" data-fancybox-group=\"thumb\" href=\"image/mars/Daedalia Planum.jpg\"><div class=\"thmb\"><img alt=\"\" class=\"thumbimg\" src=\"image/mars/Daedalia Planum.jpg\"/><p class=\"thumbcontent\">November,17, 2020<br/>Daedalia Planum</p></div></a><a class=\"fancybox-thumbs\" data-fancybox-group=\"thumb\" href=\"image/mars/Ariadnes Colles3.jpg\"><div class=\"thmb\"><img alt=\"\" class=\"thumbimg\" src=\"image/mars/Ariadnes Colles3.jpg\"/><p class=\"thumbcontent\">November,11, 2020<br/>Ariadnes Colles</p></div></a><a class=\"fancybox-thumbs\" data-fancybox-group=\"thumb\" href=\"image/mars/Atlantis Chaos.jpg\"><div class=\"thmb\"><img alt=\"\" class=\"thumbimg\" src=\"image/mars/Atlantis Chaos.jpg\"/><p class=\"thumbcontent\">November,09, 2020<br/>Atlantis Chaos</p></div></a><a class=\"fancybox-thumbs\" data-fancybox-group=\"thumb\" href=\"image/mars/Daedalia Planum.jpg\"><div class=\"thmb\"><img alt=\"\" class=\"thumbimg\" src=\"image/mars/Daedalia Planum.jpg\"/><p class=\"thumbcontent\">January 1, 2020<br/>Daedalia Planum</p></div></a><a class=\"fancybox-thumbs\" data-fancybox-group=\"thumb\" href=\"image/mars/Icaria Fossae.jpg\"><div class=\"thmb\"><img alt=\"\" class=\"thumbimg\" src=\"image/mars/Icaria Fossae.jpg\"/><p class=\"thumbcontent\">January 1, 2020<br/>Icaria Fossae</p></div></a><a class=\"fancybox-thumbs\" data-fancybox-group=\"thumb\" href=\"image/mars/Niger Vallis.jpg\"><div class=\"thmb\"><img alt=\"\" class=\"thumbimg\" src=\"image/mars/Niger Vallis.jpg\"/><p class=\"thumbcontent\">January 1, 2020<br/>Niger Vallis</p></div></a><a class=\"fancybox-thumbs\" data-fancybox-group=\"thumb\" href=\"image/mars/Proctor Crater Dunes.jpg\"><div class=\"thmb\"><img alt=\"\" class=\"thumbimg\" src=\"image/mars/Proctor Crater Dunes.jpg\"/><p class=\"thumbcontent\">January 1, 2020<br/>Proctor Crater Dunes</p></div></a><a class=\"fancybox-thumbs\" data-fancybox-group=\"thumb\" href=\"image/mars/Reull Vallis.jpg\"><div class=\"thmb\"><img alt=\"\" class=\"thumbimg\" src=\"image/mars/Reull Vallis.jpg\"/><p class=\"thumbcontent\">January 1, 2020<br/>Reull Vallis</p></div></a><a class=\"fancybox-thumbs\" data-fancybox-group=\"thumb\" href=\"image/mars/Ariadnes Colles3.jpg\"><div class=\"thmb\"><img alt=\"\" class=\"thumbimg\" src=\"image/mars/Ariadnes Colles3.jpg\"/><p class=\"thumbcontent\">January 1, 2020<br/>Ariadnes Colles</p></div></a><a class=\"fancybox-thumbs\" data-fancybox-group=\"thumb\" href=\"image/mars/Sirenum Fossae.jpg\"><div class=\"thmb\"><img alt=\"\" class=\"thumbimg\" src=\"image/mars/Sirenum Fossae.jpg\"/><p class=\"thumbcontent\">January 1, 2020<br/>Sirenum Fossae</p></div></a><a class=\"fancybox-thumbs\" data-fancybox-group=\"thumb\" href=\"image/mars/South Polar Cap.jpg\"><div class=\"thmb\"><img alt=\"\" class=\"thumbimg\" src=\"image/mars/South Polar Cap.jpg\"/><p class=\"thumbcontent\">January 1, 2020<br/>South Polar Cap</p></div></a><a class=\"fancybox-thumbs\" data-fancybox-group=\"thumb\" href=\"image/mars/Niger Vallis.jpg\"><div class=\"thmb\"><img alt=\"\" class=\"thumbimg\" src=\"image/mars/Niger Vallis.jpg\"/><p class=\"thumbcontent\">January 1, 2020<br/>Niger Vallis</p></div></a><a class=\"fancybox-thumbs\" data-fancybox-group=\"thumb\" href=\"image/mars/Daedalia Planum.jpg\"><div class=\"thmb\"><img alt=\"\" class=\"thumbimg\" src=\"image/mars/Daedalia Planum.jpg\"/><p class=\"thumbcontent\">January 1, 2020<br/>Daedalia Planum</p></div></a><a class=\"fancybox-thumbs\" data-fancybox-group=\"thumb\" href=\"image/mars/Icaria Fossae.jpg\"><div class=\"thmb\"><img alt=\"\" class=\"thumbimg\" src=\"image/mars/Icaria Fossae.jpg\"/><p class=\"thumbcontent\">January 1, 2020<br/>Icaria Fossae</p></div></a><a class=\"fancybox-thumbs\" data-fancybox-group=\"thumb\" href=\"image/mars/Ariadnes Colles4.jpg\"><div class=\"thmb\"><img alt=\"\" class=\"thumbimg\" src=\"image/mars/Ariadnes Colles4.jpg\"/><p class=\"thumbcontent\">January 1, 2020<br/>Ariadnes Colles</p></div></a><a class=\"fancybox-thumbs\" data-fancybox-group=\"thumb\" href=\"image/mars/South Polar Cap.jpg\"><div class=\"thmb\"><img alt=\"\" class=\"thumbimg\" src=\"image/mars/South Polar Cap.jpg\"/><p class=\"thumbcontent\">January 1, 2020<br/>South Polar Cap</p></div></a><a class=\"fancybox-thumbs\" data-fancybox-group=\"thumb\" href=\"image/mars/Daedalia Planum.jpg\"><div class=\"thmb\"><img alt=\"\" class=\"thumbimg\" src=\"image/mars/Daedalia Planum.jpg\"/><p class=\"thumbcontent\">January 1, 2020<br/>Daedalia Planum</p></div></a></div>\n",
      "</div>\n",
      "<!-- first div ends -->\n",
      "<!-- second div starts -->\n",
      "<div class=\"col-md-12 grid-margin\" id=\"column\">\n",
      "<ul class=\"post-list\">\n",
      "<li class=\"post-heading\"></li>\n",
      "</ul>\n",
      "</div>\n",
      "<!-- second div starts -->\n",
      "</div>\n",
      "<div class=\"first imgcontainer mt-3\">\n",
      "<div class=\"col-md-12\">\n",
      "<div class=\"row\">\n",
      "<div class=\"col-md-3\">\n",
      "<img id=\"pic\" src=\"\"/>\n",
      "</div>\n",
      "</div>\n",
      "</div>\n",
      "</div>\n",
      "<!-- end -->\n",
      "<div class=\"module_gallery container\">\n",
      "<div class=\"col-md-12\">\n",
      "<div class=\"row\">\n",
      "<div class=\"col-md-6\">\n",
      "<div class=\"card\">\n",
      "<img alt=\"Card image cap\" class=\"card-img-top\" src=\"https://www.jpl.nasa.gov/assets/images/content/tmp/images/jpl_photojournal(3x1).jpg\"/>\n",
      "<div class=\"card-body\">\n",
      "<h5 class=\"card-title\">JPL Photojournal</h5>\n",
      "<p class=\"card-text\">Access to the full library of publicly released images from various Solar System exploration programs</p>\n",
      "</div>\n",
      "</div>\n",
      "</div>\n",
      "<div class=\"col-md-6\">\n",
      "<div class=\"card\">\n",
      "<img alt=\"Card image cap\" class=\"card-img-top\" src=\"https://www.jpl.nasa.gov/assets/images/content/tmp/images/nasa_images(3x1).jpg\"/>\n",
      "<div class=\"card-body\">\n",
      "<h5 class=\"card-title\">Great images in NASA</h5>\n",
      "<p class=\"card-text\">A selection of the best-known images from a half-century of exploration and discovery</p>\n",
      "</div>\n",
      "</div>\n",
      "</div>\n",
      "</div>\n",
      "</div>\n",
      "</div>\n",
      "<div class=\"multi_teaser\">\n",
      "<div class=\"container\">\n",
      "<h1>You Might Also Like</h1>\n",
      "<div class=\"col-md-12 mt-5\">\n",
      "<div class=\"row\">\n",
      "<div class=\"col-md-4\">\n",
      "<div class=\"card\">\n",
      "<img alt=\"Card image cap\" class=\"card-img-top\" src=\"https://imagecache.jpl.nasa.gov/images/640x350/C1-PIA24304---CatScanMars-16-640x350.gif\"/>\n",
      "<div class=\"card-body\">\n",
      "<p class=\"card-text\">Access to the full library of publicly released images from various Solar System exploration programs</p>\n",
      "</div>\n",
      "</div>\n",
      "</div>\n",
      "<div class=\"col-md-4\">\n",
      "<div class=\"card\">\n",
      "<img alt=\"Card image cap\" class=\"card-img-top\" src=\"https://imagecache.jpl.nasa.gov/images/640x350/PIA23491-16-640x350.jpg\"/>\n",
      "<div class=\"card-body\">\n",
      "<p class=\"card-text\">Access to the full library of publicly released images from various Solar System exploration programs</p>\n",
      "</div>\n",
      "</div>\n",
      "</div>\n",
      "<div class=\"col-md-4\">\n",
      "<div class=\"card\">\n",
      "<img alt=\"Card image cap\" class=\"card-img-top\" src=\"https://imagecache.jpl.nasa.gov/images/640x350/C1-PIA23180-16-640x350.gif\"/>\n",
      "<div class=\"card-body\">\n",
      "<p class=\"card-text\">Access to the full library of publicly released images from various Solar System exploration programs</p>\n",
      "</div>\n",
      "</div>\n",
      "</div>\n",
      "</div>\n",
      "</div>\n",
      "</div>\n",
      "</div>\n",
      "<div class=\"footer\">\n",
      "<div class=\"container\">\n",
      "<div class=\"col-md-12\">\n",
      "<div class=\"row\">\n",
      "<div class=\"col-md-3\">\n",
      "<h4>About JPL</h4>\n",
      "<ul>\n",
      "<li>About JPL</li>\n",
      "<li>JPL Vision</li>\n",
      "<li>Executive Council</li>\n",
      "<li>History</li>\n",
      "</ul>\n",
      "</div>\n",
      "<div class=\"col-md-3\">\n",
      "<h4>Education</h4>\n",
      "<ul>\n",
      "<li>Intern</li>\n",
      "<li>Learn</li>\n",
      "<li>Teach</li>\n",
      "<li>News</li>\n",
      "</ul>\n",
      "</div>\n",
      "<div class=\"col-md-3\">\n",
      "<h4>Our Sites</h4>\n",
      "<ul>\n",
      "<li>Asteroid Watch</li>\n",
      "<li>Basics of Spaceflight</li>\n",
      "<li>Cassini - Mission to Saturn</li>\n",
      "<li>Climate Kids</li>\n",
      "</ul>\n",
      "</div>\n",
      "<div class=\"col-md-3\">\n",
      "<h4>Galleries</h4>\n",
      "<ul>\n",
      "<li>JPL Space Images</li>\n",
      "<li>Videos</li>\n",
      "<li>Infographics</li>\n",
      "<li>Photojournal</li>\n",
      "</ul>\n",
      "</div>\n",
      "</div>\n",
      "</div>\n",
      "</div>\n",
      "</div>\n",
      "<!--<div class=\"showFullimage\">\n",
      "\t<button class=\"btn btn-outline-light hideimage\" onclick=hideimage()> Close</button>\n",
      "\t<img class=\"fullimage fade-in\" src=\"\">\n",
      "</div>-->\n",
      "<!-- <script src=\"js/jquery.easeScroll.js\"></script>  -->\n",
      "<script src=\"js/jquery-3.5.1.min.js\"></script>\n",
      "<!-- <script src=\"js/jquery-3.2.1.slim.min.js\"></script> -->\n",
      "<script src=\"js/demo.js\"></script>\n",
      "<!-- <script src=\"js/app.js\"></script> -->\n",
      "<script src=\"https://cdnjs.cloudflare.com/ajax/libs/popper.js/1.12.9/umd/popper.min.js\"></script>\n",
      "<script src=\"https://maxcdn.bootstrapcdn.com/bootstrap/4.0.0/js/bootstrap.min.js\"></script>\n",
      "<script src=\"js/fancyBox/jquery.fancybox.pack.js?v=2.1.5\" type=\"text/javascript\"></script>\n",
      "<link href=\"js/fancyBox/jquery.fancybox.css?v=2.1.5\" media=\"screen\" rel=\"stylesheet\" type=\"text/css\"/>\n",
      "<link href=\"js/fancyBox/helpers/jquery.fancybox-thumbs.css?v=1.0.7\" rel=\"stylesheet\" type=\"text/css\"/>\n",
      "<script src=\"js/fancyBox/helpers/jquery.fancybox-thumbs.js?v=1.0.7\" type=\"text/javascript\"></script>\n",
      "</body></html>\n"
     ]
    }
   ],
   "source": [
    "# Parse the resulting html with soup\n",
    "html = browser.html\n",
    "img_soup = BeautifulSoup(html, 'html.parser')\n",
    "print(img_soup)"
   ]
  },
  {
   "cell_type": "code",
   "execution_count": 10,
   "id": "2cf17056",
   "metadata": {},
   "outputs": [
    {
     "name": "stdout",
     "output_type": "stream",
     "text": [
      "https://spaceimages-mars.com/image/featured/mars2.jpg\n"
     ]
    }
   ],
   "source": [
    "button = img_soup.find_all('button')[1].find_parent()['href']\n",
    "button_2 = f'{url}{button}'\n",
    "print(button_2)"
   ]
  },
  {
   "cell_type": "markdown",
   "id": "66f89679",
   "metadata": {},
   "source": [
    "### Mars Weather:"
   ]
  },
  {
   "cell_type": "code",
   "execution_count": 11,
   "id": "244bf17c",
   "metadata": {},
   "outputs": [],
   "source": [
    "browser = Browser(\"chrome\", **executable_path, headless=False)\n",
    "url = \"https://galaxyfacts-mars.com/\"\n",
    "browser.visit(url)"
   ]
  },
  {
   "cell_type": "code",
   "execution_count": 12,
   "id": "710661ef",
   "metadata": {},
   "outputs": [
    {
     "name": "stdout",
     "output_type": "stream",
     "text": [
      "                         0                1                2\n",
      "0  Mars - Earth Comparison             Mars            Earth\n",
      "1                Diameter:         6,779 km        12,742 km\n",
      "2                    Mass:  6.39 × 10^23 kg  5.97 × 10^24 kg\n",
      "3                   Moons:                2                1\n",
      "4       Distance from Sun:   227,943,824 km   149,598,262 km\n",
      "5          Length of Year:   687 Earth days      365.24 days\n",
      "6             Temperature:     -87 to -5 °C      -88 to 58°C\n"
     ]
    },
    {
     "data": {
      "text/html": [
       "<div>\n",
       "<style scoped>\n",
       "    .dataframe tbody tr th:only-of-type {\n",
       "        vertical-align: middle;\n",
       "    }\n",
       "\n",
       "    .dataframe tbody tr th {\n",
       "        vertical-align: top;\n",
       "    }\n",
       "\n",
       "    .dataframe thead th {\n",
       "        text-align: right;\n",
       "    }\n",
       "</style>\n",
       "<table border=\"1\" class=\"dataframe\">\n",
       "  <thead>\n",
       "    <tr style=\"text-align: right;\">\n",
       "      <th></th>\n",
       "      <th>ID</th>\n",
       "      <th>Properties</th>\n",
       "      <th>Mars</th>\n",
       "      <th>Earth</th>\n",
       "    </tr>\n",
       "  </thead>\n",
       "  <tbody>\n",
       "    <tr>\n",
       "      <th>0</th>\n",
       "      <td>0</td>\n",
       "      <td>Mars - Earth Comparison</td>\n",
       "      <td>Mars</td>\n",
       "      <td>Earth</td>\n",
       "    </tr>\n",
       "    <tr>\n",
       "      <th>1</th>\n",
       "      <td>1</td>\n",
       "      <td>Diameter:</td>\n",
       "      <td>6,779 km</td>\n",
       "      <td>12,742 km</td>\n",
       "    </tr>\n",
       "    <tr>\n",
       "      <th>2</th>\n",
       "      <td>2</td>\n",
       "      <td>Mass:</td>\n",
       "      <td>6.39 × 10^23 kg</td>\n",
       "      <td>5.97 × 10^24 kg</td>\n",
       "    </tr>\n",
       "    <tr>\n",
       "      <th>3</th>\n",
       "      <td>3</td>\n",
       "      <td>Moons:</td>\n",
       "      <td>2</td>\n",
       "      <td>1</td>\n",
       "    </tr>\n",
       "    <tr>\n",
       "      <th>4</th>\n",
       "      <td>4</td>\n",
       "      <td>Distance from Sun:</td>\n",
       "      <td>227,943,824 km</td>\n",
       "      <td>149,598,262 km</td>\n",
       "    </tr>\n",
       "    <tr>\n",
       "      <th>5</th>\n",
       "      <td>5</td>\n",
       "      <td>Length of Year:</td>\n",
       "      <td>687 Earth days</td>\n",
       "      <td>365.24 days</td>\n",
       "    </tr>\n",
       "    <tr>\n",
       "      <th>6</th>\n",
       "      <td>6</td>\n",
       "      <td>Temperature:</td>\n",
       "      <td>-87 to -5 °C</td>\n",
       "      <td>-88 to 58°C</td>\n",
       "    </tr>\n",
       "  </tbody>\n",
       "</table>\n",
       "</div>"
      ],
      "text/plain": [
       "   ID               Properties             Mars            Earth\n",
       "0   0  Mars - Earth Comparison             Mars            Earth\n",
       "1   1                Diameter:         6,779 km        12,742 km\n",
       "2   2                    Mass:  6.39 × 10^23 kg  5.97 × 10^24 kg\n",
       "3   3                   Moons:                2                1\n",
       "4   4       Distance from Sun:   227,943,824 km   149,598,262 km\n",
       "5   5          Length of Year:   687 Earth days      365.24 days\n",
       "6   6             Temperature:     -87 to -5 °C      -88 to 58°C"
      ]
     },
     "execution_count": 12,
     "metadata": {},
     "output_type": "execute_result"
    }
   ],
   "source": [
    "# open Mars Facts site\n",
    "mars_facts = pd.read_html(\"https://galaxyfacts-mars.com/\")[0]\n",
    "print(mars_facts)\n",
    "# render index, set dataframe cols, display\n",
    "mars_facts.reset_index(inplace=True)\n",
    "mars_facts.columns=[\"ID\", \"Properties\", \"Mars\", \"Earth\"]\n",
    "mars_facts"
   ]
  },
  {
   "cell_type": "markdown",
   "id": "96f6ae51",
   "metadata": {},
   "source": [
    "### Mars Hemisphere:"
   ]
  },
  {
   "cell_type": "code",
   "execution_count": 13,
   "id": "8701575d",
   "metadata": {},
   "outputs": [
    {
     "name": "stdout",
     "output_type": "stream",
     "text": [
      "{'Cerberus Hemisphere Enhanced': 'https://marshemispheres.com/images/cerberus_enhanced.tif', 'Schiaparelli Hemisphere Enhanced': 'https://marshemispheres.com/images/schiaparelli_enhanced.tif', 'Syrtis Major Hemisphere Enhanced': 'https://marshemispheres.com/images/syrtis_major_enhanced.tif', 'Valles Marineris Hemisphere Enhanced': 'https://marshemispheres.com/images/valles_marineris_enhanced.tif'}\n"
     ]
    }
   ],
   "source": [
    "# visit Mars Hemisphere info site\n",
    "browser = Browser(\"chrome\", **executable_path, headless=False)\n",
    "url = \"https://marshemispheres.com/\"\n",
    "browser.visit(url)\n",
    "\n",
    "img_link_dict = {}\n",
    "# Parse the resulting html with soup\n",
    "html = browser.html\n",
    "img_soup2 = BeautifulSoup(html, 'html.parser')\n",
    "# img_soup2\n",
    "links = browser.links.find_by_partial_text(\"Hemisphere Enhanced\")\n",
    "for index, link in enumerate(links):\n",
    "    if index > 0:\n",
    "        browser.back()\n",
    "        time.sleep(2)\n",
    "        links = browser.links.find_by_partial_text(\"Hemisphere Enhanced\")\n",
    "    link = links[index]\n",
    "    title = link.text\n",
    "    link.click()\n",
    "    time.sleep(1)\n",
    "    inner_html = browser.html\n",
    "    inner_soup = BeautifulSoup(inner_html, 'html.parser')\n",
    "\n",
    "    downloads = inner_soup.find_all('div', class_ = 'downloads')\n",
    "#     print(downloads)\n",
    "    for download in downloads:\n",
    "#         print(download)\n",
    "        lis = download.find_all(\"li\")\n",
    "#         print(lis)\n",
    "        for li in lis:\n",
    "            if \"Original\" in li.text:\n",
    "                partial_link = li.find('a')['href']\n",
    "                img_link_dict[title] = f'{url}{partial_link}'\n",
    "print(img_link_dict)"
   ]
  },
  {
   "cell_type": "code",
   "execution_count": 14,
   "id": "f2f23c99",
   "metadata": {},
   "outputs": [],
   "source": [
    "# to stop automated browser to remain active and shutdown\n",
    "browser.quit()"
   ]
  },
  {
   "cell_type": "code",
   "execution_count": 15,
   "id": "12622bce",
   "metadata": {},
   "outputs": [
    {
     "name": "stdout",
     "output_type": "stream",
     "text": [
      "Python 3.8.8\n"
     ]
    }
   ],
   "source": [
    "!python --version"
   ]
  },
  {
   "cell_type": "code",
   "execution_count": 16,
   "id": "966d79d5",
   "metadata": {},
   "outputs": [
    {
     "name": "stderr",
     "output_type": "stream",
     "text": [
      "python: can't open file '3.9': [Errno 2] No such file or directory\n"
     ]
    }
   ],
   "source": [
    "!python 3.9"
   ]
  },
  {
   "cell_type": "code",
   "execution_count": null,
   "id": "ffc3b79d",
   "metadata": {},
   "outputs": [],
   "source": []
  }
 ],
 "metadata": {
  "kernelspec": {
   "display_name": "Python 3",
   "language": "python",
   "name": "python3"
  },
  "language_info": {
   "codemirror_mode": {
    "name": "ipython",
    "version": 3
   },
   "file_extension": ".py",
   "mimetype": "text/x-python",
   "name": "python",
   "nbconvert_exporter": "python",
   "pygments_lexer": "ipython3",
   "version": "3.8.8"
  }
 },
 "nbformat": 4,
 "nbformat_minor": 5
}